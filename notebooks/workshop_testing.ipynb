{
 "cells": [
  {
   "cell_type": "markdown",
   "metadata": {},
   "source": [
    "# Jibo Teleop"
   ]
  },
  {
   "cell_type": "markdown",
   "metadata": {},
   "source": [
    "## Step 1: import stuff"
   ]
  },
  {
   "cell_type": "markdown",
   "metadata": {},
   "source": [
    "Run this only once"
   ]
  },
  {
   "cell_type": "code",
   "execution_count": 5,
   "metadata": {},
   "outputs": [
    {
     "ename": "RuntimeError",
     "evalue": "Context.init() must only be called once",
     "output_type": "error",
     "traceback": [
      "\u001b[0;31m---------------------------------------------------------------------------\u001b[0m",
      "\u001b[0;31mRuntimeError\u001b[0m                              Traceback (most recent call last)",
      "Cell \u001b[0;32mIn[5], line 2\u001b[0m\n\u001b[1;32m      1\u001b[0m \u001b[38;5;28;01mimport\u001b[39;00m \u001b[38;5;21;01mrclpy\u001b[39;00m \u001b[38;5;66;03m# ROS2\u001b[39;00m\n\u001b[0;32m----> 2\u001b[0m \u001b[43mrclpy\u001b[49m\u001b[38;5;241;43m.\u001b[39;49m\u001b[43minit\u001b[49m\u001b[43m(\u001b[49m\u001b[43m)\u001b[49m\n",
      "File \u001b[0;32m/opt/ros/iron/lib/python3.10/site-packages/rclpy/__init__.py:89\u001b[0m, in \u001b[0;36minit\u001b[0;34m(args, context, domain_id, signal_handler_options)\u001b[0m\n\u001b[1;32m     87\u001b[0m         signal_handler_options \u001b[38;5;241m=\u001b[39m SignalHandlerOptions\u001b[38;5;241m.\u001b[39mNO\n\u001b[1;32m     88\u001b[0m install_signal_handlers(signal_handler_options)\n\u001b[0;32m---> 89\u001b[0m \u001b[38;5;28;01mreturn\u001b[39;00m \u001b[43mcontext\u001b[49m\u001b[38;5;241;43m.\u001b[39;49m\u001b[43minit\u001b[49m\u001b[43m(\u001b[49m\u001b[43margs\u001b[49m\u001b[43m,\u001b[49m\u001b[43m \u001b[49m\u001b[43mdomain_id\u001b[49m\u001b[38;5;241;43m=\u001b[39;49m\u001b[43mdomain_id\u001b[49m\u001b[43m)\u001b[49m\n",
      "File \u001b[0;32m/opt/ros/iron/lib/python3.10/site-packages/rclpy/context.py:70\u001b[0m, in \u001b[0;36mContext.init\u001b[0;34m(self, args, initialize_logging, domain_id)\u001b[0m\n\u001b[1;32m     65\u001b[0m     \u001b[38;5;28;01mraise\u001b[39;00m \u001b[38;5;167;01mRuntimeError\u001b[39;00m(\n\u001b[1;32m     66\u001b[0m         \u001b[38;5;124m'\u001b[39m\u001b[38;5;124mDomain id (\u001b[39m\u001b[38;5;132;01m{}\u001b[39;00m\u001b[38;5;124m) should not be lower than zero.\u001b[39m\u001b[38;5;124m'\u001b[39m\n\u001b[1;32m     67\u001b[0m         \u001b[38;5;241m.\u001b[39mformat(domain_id))\n\u001b[1;32m     69\u001b[0m \u001b[38;5;28;01mif\u001b[39;00m \u001b[38;5;28mself\u001b[39m\u001b[38;5;241m.\u001b[39m__context \u001b[38;5;129;01mis\u001b[39;00m \u001b[38;5;129;01mnot\u001b[39;00m \u001b[38;5;28;01mNone\u001b[39;00m:\n\u001b[0;32m---> 70\u001b[0m     \u001b[38;5;28;01mraise\u001b[39;00m \u001b[38;5;167;01mRuntimeError\u001b[39;00m(\u001b[38;5;124m'\u001b[39m\u001b[38;5;124mContext.init() must only be called once\u001b[39m\u001b[38;5;124m'\u001b[39m)\n\u001b[1;32m     72\u001b[0m \u001b[38;5;28mself\u001b[39m\u001b[38;5;241m.\u001b[39m__context \u001b[38;5;241m=\u001b[39m _rclpy\u001b[38;5;241m.\u001b[39mContext(\n\u001b[1;32m     73\u001b[0m     args \u001b[38;5;28;01mif\u001b[39;00m args \u001b[38;5;129;01mis\u001b[39;00m \u001b[38;5;129;01mnot\u001b[39;00m \u001b[38;5;28;01mNone\u001b[39;00m \u001b[38;5;28;01melse\u001b[39;00m sys\u001b[38;5;241m.\u001b[39margv,\n\u001b[1;32m     74\u001b[0m     domain_id \u001b[38;5;28;01mif\u001b[39;00m domain_id \u001b[38;5;129;01mis\u001b[39;00m \u001b[38;5;129;01mnot\u001b[39;00m \u001b[38;5;28;01mNone\u001b[39;00m \u001b[38;5;28;01melse\u001b[39;00m _rclpy\u001b[38;5;241m.\u001b[39mRCL_DEFAULT_DOMAIN_ID)\n\u001b[1;32m     75\u001b[0m \u001b[38;5;28;01mif\u001b[39;00m initialize_logging \u001b[38;5;129;01mand\u001b[39;00m \u001b[38;5;129;01mnot\u001b[39;00m \u001b[38;5;28mself\u001b[39m\u001b[38;5;241m.\u001b[39m_logging_initialized:\n",
      "\u001b[0;31mRuntimeError\u001b[0m: Context.init() must only be called once"
     ]
    }
   ],
   "source": [
    "import rclpy # ROS2\n",
    "rclpy.init()"
   ]
  },
  {
   "cell_type": "code",
   "execution_count": null,
   "metadata": {},
   "outputs": [],
   "source": [
    "from std_msgs.msg import String\n",
    "import time\n",
    "import threading\n",
    "\n",
    "from jibo_msgs.msg import JiboAction # ROS msgs\n",
    "from jibo_msgs.msg import JiboVec3 # ROS msgs   \n",
    "from jibo_msgs.msg import JiboAsrCommand\n",
    "from jibo_msgs.msg import JiboAsrResult\n",
    "from jibo_teleop_ros import jibo_teleop_ros\n",
    "from jibo_teleop_flags import jibo_teleop_flags"
   ]
  },
  {
   "cell_type": "markdown",
   "metadata": {},
   "source": [
    "# Step 2: initite and connect to ROS"
   ]
  },
  {
   "cell_type": "code",
   "execution_count": null,
   "metadata": {},
   "outputs": [],
   "source": [
    "class jibo_teleop():\n",
    "\tros_node = rclpy.create_node('talk_jibo')\n",
    "\tflags = jibo_teleop_flags()\n",
    "\tros_label = 'TalkJibo'\n",
    "\tros_teleop = jibo_teleop_ros(ros_node, ros_label, flags)  \n",
    "\n",
    "\tdef __init__(self):\n",
    "\t\tsuper(jibo_teleop, self).__init__()\n",
    "\t\tself.ros_teleop.reset_msgs()\n"
   ]
  },
  {
   "cell_type": "markdown",
   "metadata": {},
   "source": [
    "# Step 3: wait for user input"
   ]
  },
  {
   "cell_type": "markdown",
   "metadata": {},
   "source": [
    "#### Jibo Commands sheet-cheat\n",
    "- Jibo say something: `teleop_connection.ros_teleop.send_tts_message(jibo_promts)`\n",
    "- Jibo listen/wait for user speech:`teleop_connection.ros_teleop.JiboListen()`\n",
    "- Jibo Dance/Animiation/Emoji/Jiboji: `teleop_connection.ros_teleop.send_motion_message(path_to_file)` \n",
    "- Jibo Play Audio: `teleop_connection.ros_teleop.send_sound_message(path_to_audio_file)`\n",
    "- Jibo LED: `teleop_connection.ros_teleop.send_led_message(r,g,b)`\n",
    "- Jibo body move: `teleop_connection.ros_teleop.send_lookat_message(x,y,z)`\n",
    "\n",
    "(see list of paths for Animation, Dances, Audio, Emoji, etc.: https://docs.google.com/spreadsheets/d/1FTqMNtcOdY3DiJ6tEYhlwc11WOpyp_jwcfV4FPdORok/edit#gid=1294449188 )\n"
   ]
  },
  {
   "cell_type": "code",
   "execution_count": 6,
   "metadata": {},
   "outputs": [
    {
     "name": "stdout",
     "output_type": "stream",
     "text": [
      "jibo_msgs.msg.JiboAsrCommand(header=std_msgs.msg.Header(stamp=builtin_interfaces.msg.Time(sec=1706894639, nanosec=610295986), frame_id=''), heyjibo=True, continuous=False, incremental=False, alternatives=False, detectend=False, rule='', command=1)\n",
      "wait while listening:\n",
      "\n",
      "\n",
      "sending speech message: Did you say: \n"
     ]
    },
    {
     "name": "stderr",
     "output_type": "stream",
     "text": [
      "[INFO] [1706894650.124752098] [talk_jibo]: Did you say: \n"
     ]
    }
   ],
   "source": [
    "if __name__ == '__main__':\n",
    "\t# Loop forever and wait for Jibo listen signal to activate ASR, intent, response \n",
    "\tteleop_connection = jibo_teleop()\n",
    "\ttime.sleep(2)\n",
    "\n",
    "\tif rclpy.ok(): \n",
    "\t\t############################################################################################\n",
    "\t\t# jibo_promts = input(\"what do you want Jibo to say:\")\n",
    "\t\t# print('what do you want Jibo to say:')\n",
    "\t\t# jibo_promts = input()\n",
    "\n",
    "\t\t# print(\"jibo says: \" + jibo_promts)\n",
    "\t\t# if jibo_promts:\n",
    "\t\t# \tteleop_connection.ros_teleop.send_tts_message(teleop_connection, str(jibo_promts))\n",
    "\n",
    "\t\t# teleop_connection.ros_teleop.send_motion_message('Dances/Happy_Lucky_01_01.keys')\n",
    "\t\t# time.sleep(0.2)\n",
    "\n",
    "\n",
    "\t\t# teleop_connection.ros_teleop.send_sound_message('excited1-jibo-old1.wav')\n",
    "\t\t# time.sleep(0.2)\n",
    "\n",
    "\t\t# teleop_connection.ros_teleop.send_led_message(255,0,0)\n",
    "\t\t# time.sleep(0.2)\n",
    "\n",
    "\t\t# teleop_connection.ros_teleop.send_led_message(0,0,0)\n",
    "\n",
    "\t\t# teleop_connection.ros_teleop.send_lookat_message(100,0,0)\n",
    "\t\t# teleop_connection.ros_teleop.send_lookat_message(0,100,0)\n",
    "\t\t# teleop_connection.ros_teleop.send_lookat_message(0,0,100)\n",
    "\n",
    "\n",
    "\t\t# jibo_promts = 'Hi there, i am Jibo. Would you like to play with me?'\n",
    "\t\t# teleop_connection.ros_teleop.send_tts_message(str(jibo_promts))\n",
    "\t\t# time.sleep(0.2)\n",
    "\t\t\n",
    "\t\tteleop_connection.ros_teleop.JiboListen()\n",
    "\t\tjibo_promts = 'Did you say: '+ teleop_connection.ros_teleop.asr_transcription\n",
    "\t\tteleop_connection.ros_teleop.send_tts_message(str(jibo_promts))\n",
    "\t\ttime.sleep(0.2)\n",
    "\n",
    "\t\t# teleop_connection.ros_teleop.send_motion_message('Dances/Celebrate_01.keys')\n",
    "\t\t# time.sleep(0.2)\n",
    "\n",
    "\n",
    "\t\t# teleop_connection.ros_teleop.send_sound_message('excited1-jibo-old1.wav')\n",
    "\t\t# time.sleep(0.2)\n",
    "\n",
    "\t\t# teleop_connection.ros_teleop.send_led_message(255,0,0)\n",
    "\t\t# time.sleep(0.2)\n",
    "\n",
    "\t\t# teleop_connection.ros_teleop.send_led_message(0,0,0)\n",
    "\n",
    "\t\t# teleop_connection.ros_teleop.send_lookat_message(100,0,0)\n",
    "\t\t# teleop_connection.ros_teleop.send_lookat_message(0,100,0)\n",
    "\t\t# teleop_connection.ros_teleop.send_lookat_message(0,0,100)\n",
    "\n",
    "\n",
    "\t\tteleop_connection.ros_teleop.reset_msgs()\n",
    "\n",
    "\t\trclpy.spin_once(teleop_connection.ros_node)"
   ]
  }
 ],
 "metadata": {
  "kernelspec": {
   "display_name": "Python 3 (ipykernel)",
   "language": "python",
   "name": "python3"
  },
  "language_info": {
   "codemirror_mode": {
    "name": "ipython",
    "version": 3
   },
   "file_extension": ".py",
   "mimetype": "text/x-python",
   "name": "python",
   "nbconvert_exporter": "python",
   "pygments_lexer": "ipython3",
   "version": "3.10.12"
  },
  "vscode": {
   "interpreter": {
    "hash": "3ad933181bd8a04b432d3370b9dc3b0662ad032c4dfaa4e4f1596c548f763858"
   }
  }
 },
 "nbformat": 4,
 "nbformat_minor": 4
}
