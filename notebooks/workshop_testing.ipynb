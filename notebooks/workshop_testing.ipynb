{
 "cells": [
  {
   "cell_type": "markdown",
   "metadata": {},
   "source": [
    "# Jibo Teleop"
   ]
  },
  {
   "cell_type": "markdown",
   "metadata": {},
   "source": [
    "## Step 1: import stuff"
   ]
  },
  {
   "cell_type": "markdown",
   "metadata": {},
   "source": [
    "Run this only once"
   ]
  },
  {
   "cell_type": "code",
   "execution_count": 2,
   "metadata": {},
   "outputs": [],
   "source": [
    "import rclpy # ROS2\n",
    "rclpy.init()"
   ]
  },
  {
   "cell_type": "code",
   "execution_count": 3,
   "metadata": {},
   "outputs": [
    {
     "ename": "ModuleNotFoundError",
     "evalue": "No module named 'jibo_teleop_ros'",
     "output_type": "error",
     "traceback": [
      "\u001b[0;31m---------------------------------------------------------------------------\u001b[0m",
      "\u001b[0;31mModuleNotFoundError\u001b[0m                       Traceback (most recent call last)",
      "Cell \u001b[0;32mIn[3], line 9\u001b[0m\n\u001b[1;32m      7\u001b[0m \u001b[38;5;28;01mfrom\u001b[39;00m \u001b[38;5;21;01mjibo_msgs\u001b[39;00m\u001b[38;5;21;01m.\u001b[39;00m\u001b[38;5;21;01mmsg\u001b[39;00m \u001b[38;5;28;01mimport\u001b[39;00m JiboAsrCommand\n\u001b[1;32m      8\u001b[0m \u001b[38;5;28;01mfrom\u001b[39;00m \u001b[38;5;21;01mjibo_msgs\u001b[39;00m\u001b[38;5;21;01m.\u001b[39;00m\u001b[38;5;21;01mmsg\u001b[39;00m \u001b[38;5;28;01mimport\u001b[39;00m JiboAsrResult\n\u001b[0;32m----> 9\u001b[0m \u001b[38;5;28;01mfrom\u001b[39;00m \u001b[38;5;21;01mjibo_teleop_ros\u001b[39;00m \u001b[38;5;28;01mimport\u001b[39;00m jibo_teleop_ros\n\u001b[1;32m     10\u001b[0m \u001b[38;5;28;01mfrom\u001b[39;00m \u001b[38;5;21;01mjibo_teleop_flags\u001b[39;00m \u001b[38;5;28;01mimport\u001b[39;00m jibo_teleop_flags\n",
      "\u001b[0;31mModuleNotFoundError\u001b[0m: No module named 'jibo_teleop_ros'"
     ]
    }
   ],
   "source": [
    "from std_msgs.msg import String\n",
    "import time\n",
    "import threading\n",
    "\n",
    "from jibo_msgs.msg import JiboAction # ROS msgs\n",
    "from jibo_msgs.msg import JiboVec3 # ROS msgs   \n",
    "from jibo_msgs.msg import JiboAsrCommand\n",
    "from jibo_msgs.msg import JiboAsrResult\n",
    "from jibo_teleop_ros import jibo_teleop_ros\n",
    "from jibo_teleop_flags import jibo_teleop_flags"
   ]
  },
  {
   "cell_type": "markdown",
   "metadata": {},
   "source": [
    "# Step 2: initite and connect to ROS"
   ]
  },
  {
   "cell_type": "code",
   "execution_count": null,
   "metadata": {},
   "outputs": [],
   "source": [
    "class jibo_teleop():\n",
    "\tros_node = rclpy.create_node('talk_jibo')\n",
    "\tflags = jibo_teleop_flags()\n",
    "\tros_label = 'TalkJibo'\n",
    "\tros_teleop = jibo_teleop_ros(ros_node, ros_label, flags)  \n",
    "\n",
    "\tdef __init__(self):\n",
    "\t\tsuper(jibo_teleop, self).__init__()\n",
    "\t\tself.ros_teleop.reset_msgs()\n"
   ]
  },
  {
   "cell_type": "markdown",
   "metadata": {},
   "source": [
    "# Step 3: wait for user input"
   ]
  },
  {
   "cell_type": "markdown",
   "metadata": {},
   "source": [
    "#### Jibo Commands sheet-cheat\n",
    "- Jibo say something: `teleop_connection.ros_teleop.send_tts_message(jibo_promts)`\n",
    "- Jibo listen/wait for user speech:`teleop_connection.ros_teleop.JiboListen()`\n",
    "- Jibo Dance/Animiation/Emoji/Jiboji: `teleop_connection.ros_teleop.send_motion_message(path_to_file)` \n",
    "- Jibo Play Audio: `teleop_connection.ros_teleop.send_sound_message(path_to_audio_file)`\n",
    "- Jibo LED: `teleop_connection.ros_teleop.send_led_message(r,g,b)`\n",
    "- Jibo body move: `teleop_connection.ros_teleop.send_lookat_message(x,y,z)`\n",
    "\n",
    "(see list of paths for Animation, Dances, Audio, Emoji, etc.: https://docs.google.com/spreadsheets/d/1FTqMNtcOdY3DiJ6tEYhlwc11WOpyp_jwcfV4FPdORok/edit#gid=1294449188 )\n"
   ]
  },
  {
   "cell_type": "code",
   "execution_count": null,
   "metadata": {},
   "outputs": [
    {
     "ename": "NameError",
     "evalue": "name 'jibo_teleop' is not defined",
     "output_type": "error",
     "traceback": [
      "\u001b[0;31m---------------------------------------------------------------------------\u001b[0m",
      "\u001b[0;31mNameError\u001b[0m                                 Traceback (most recent call last)",
      "Cell \u001b[0;32mIn[1], line 3\u001b[0m\n\u001b[1;32m      1\u001b[0m \u001b[38;5;28;01mif\u001b[39;00m \u001b[38;5;18m__name__\u001b[39m \u001b[38;5;241m==\u001b[39m \u001b[38;5;124m'\u001b[39m\u001b[38;5;124m__main__\u001b[39m\u001b[38;5;124m'\u001b[39m:\n\u001b[1;32m      2\u001b[0m \t\u001b[38;5;66;03m# Loop forever and wait for Jibo listen signal to activate ASR, intent, response \u001b[39;00m\n\u001b[0;32m----> 3\u001b[0m \tteleop_connection \u001b[38;5;241m=\u001b[39m \u001b[43mjibo_teleop\u001b[49m()\n\u001b[1;32m      4\u001b[0m \ttime\u001b[38;5;241m.\u001b[39msleep(\u001b[38;5;241m2\u001b[39m)\n\u001b[1;32m      6\u001b[0m \t\u001b[38;5;28;01mif\u001b[39;00m rclpy\u001b[38;5;241m.\u001b[39mok(): \n\u001b[1;32m      7\u001b[0m \t\t\u001b[38;5;66;03m############################################################################################\u001b[39;00m\n\u001b[1;32m      8\u001b[0m \t\t\u001b[38;5;66;03m# jibo_promts = input(\"what do you want Jibo to say:\")\u001b[39;00m\n\u001b[0;32m   (...)\u001b[0m\n\u001b[1;32m     46\u001b[0m \t\t\u001b[38;5;66;03m# teleop_connection.ros_teleop.send_sound_message('excited1-jibo-old1.wav')\u001b[39;00m\n\u001b[1;32m     47\u001b[0m \t\t\u001b[38;5;66;03m# time.sleep(0.2)\u001b[39;00m\n",
      "\u001b[0;31mNameError\u001b[0m: name 'jibo_teleop' is not defined"
     ]
    }
   ],
   "source": [
    "if __name__ == '__main__':\n",
    "\t# Loop forever and wait for Jibo listen signal to activate ASR, intent, response \n",
    "\tteleop_connection = jibo_teleop()\n",
    "\ttime.sleep(2)\n",
    "\n",
    "\tif rclpy.ok(): \n",
    "\t\t############################################################################################\n",
    "\t\t# jibo_promts = input(\"what do you want Jibo to say:\")\n",
    "\t\t# print('what do you want Jibo to say:')\n",
    "\t\t# jibo_promts = input()\n",
    "\n",
    "\t\t# print(\"jibo says: \" + jibo_promts)\n",
    "\t\t# if jibo_promts:\n",
    "\t\t# \tteleop_connection.ros_teleop.send_tts_message(teleop_connection, str(jibo_promts))\n",
    "\n",
    "\t\t# teleop_connection.ros_teleop.send_motion_message('Dances/Happy_Lucky_01_01.keys')\n",
    "\t\t# time.sleep(0.2)\n",
    "\n",
    "\n",
    "\t\t# teleop_connection.ros_teleop.send_sound_message('excited1-jibo-old1.wav')\n",
    "\t\t# time.sleep(0.2)\n",
    "\n",
    "\t\t# teleop_connection.ros_teleop.send_led_message(255,0,0)\n",
    "\t\t# time.sleep(0.2)\n",
    "\n",
    "\t\t# teleop_connection.ros_teleop.send_led_message(0,0,0)\n",
    "\n",
    "\t\t# teleop_connection.ros_teleop.send_lookat_message(100,0,0)\n",
    "\t\t# teleop_connection.ros_teleop.send_lookat_message(0,100,0)\n",
    "\t\t# teleop_connection.ros_teleop.send_lookat_message(0,0,100)\n",
    "\n",
    "\n",
    "\t\t# jibo_promts = 'Hi there, i am Jibo. Would you like to play with me?'\n",
    "\t\t# teleop_connection.ros_teleop.send_tts_message(str(jibo_promts))\n",
    "\t\t# time.sleep(0.2)\n",
    "\t\t\n",
    "\t\t# teleop_connection.ros_teleop.JiboListen()\n",
    "\t\t# jibo_promts = 'Did you say: '+ teleop_connection.ros_teleop.asr_transcription\n",
    "\t\t# teleop_connection.ros_teleop.send_tts_message(str(jibo_promts))\n",
    "\t\t# time.sleep(0.2)\n",
    "\n",
    "\t\t# teleop_connection.ros_teleop.send_motion_message('Dances/Celebrate_01.keys')\n",
    "\t\t# time.sleep(0.2)\n",
    "\n",
    "\n",
    "\t\t# teleop_connection.ros_teleop.send_sound_message('excited1-jibo-old1.wav')\n",
    "\t\t# time.sleep(0.2)\n",
    "\n",
    "\t\tteleop_connection.ros_teleop.send_led_message(255,0,0)\n",
    "\t\ttime.sleep(0.2)\n",
    "\n",
    "\t\tteleop_connection.ros_teleop.send_led_message(0,0,0)\n",
    "\n",
    "\t\t# teleop_connection.ros_teleop.send_lookat_message(100,0,0)\n",
    "\t\t# teleop_connection.ros_teleop.send_lookat_message(0,100,0)\n",
    "\t\t# teleop_connection.ros_teleop.send_lookat_message(0,0,100)\n",
    "\n",
    "\n",
    "\t\tteleop_connection.ros_teleop.reset_msgs()\n",
    "\n",
    "\t\trclpy.spin_once(teleop_connection.ros_node)"
   ]
  }
 ],
 "metadata": {
  "kernelspec": {
   "display_name": "Python 3 (ipykernel)",
   "language": "python",
   "name": "python3"
  },
  "language_info": {
   "codemirror_mode": {
    "name": "ipython",
    "version": 3
   },
   "file_extension": ".py",
   "mimetype": "text/x-python",
   "name": "python",
   "nbconvert_exporter": "python",
   "pygments_lexer": "ipython3",
   "version": "3.10.12"
  },
  "vscode": {
   "interpreter": {
    "hash": "3ad933181bd8a04b432d3370b9dc3b0662ad032c4dfaa4e4f1596c548f763858"
   }
  }
 },
 "nbformat": 4,
 "nbformat_minor": 4
}
