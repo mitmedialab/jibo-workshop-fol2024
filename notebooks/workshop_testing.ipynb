{
 "cells": [
  {
   "cell_type": "markdown",
   "metadata": {},
   "source": [
    "# Jibo Teleop"
   ]
  },
  {
   "cell_type": "markdown",
   "metadata": {},
   "source": [
    "## Step 1: import stuff"
   ]
  },
  {
   "cell_type": "markdown",
   "metadata": {},
   "source": [
    "Run this only once"
   ]
  },
  {
   "cell_type": "code",
   "execution_count": 1,
   "metadata": {},
   "outputs": [],
   "source": [
    "import rclpy # ROS2\n",
    "rclpy.init()"
   ]
  },
  {
   "cell_type": "code",
   "execution_count": 2,
   "metadata": {},
   "outputs": [],
   "source": [
    "from std_msgs.msg import String\n",
    "import time\n",
    "import threading\n",
    "\n",
    "from jibo_msgs.msg import JiboAction # ROS msgs\n",
    "from jibo_msgs.msg import JiboVec3 # ROS msgs   \n",
    "from jibo_msgs.msg import JiboAsrCommand\n",
    "from jibo_msgs.msg import JiboAsrResult\n",
    "from jibo_teleop_ros import jibo_teleop_ros\n",
    "from jibo_teleop_flags import jibo_teleop_flags"
   ]
  },
  {
   "cell_type": "markdown",
   "metadata": {},
   "source": [
    "# Step 2: initite and connect to ROS"
   ]
  },
  {
   "cell_type": "code",
   "execution_count": 3,
   "metadata": {},
   "outputs": [],
   "source": [
    "class jibo_teleop():\n",
    "\tros_node = rclpy.create_node('talk_jibo')\n",
    "\tflags = jibo_teleop_flags()\n",
    "\tros_label = 'TalkJibo'\n",
    "\tros_teleop = jibo_teleop_ros(ros_node, ros_label, flags)  \n",
    "\n",
    "\tdef __init__(self):\n",
    "\t\tsuper(jibo_teleop, self).__init__()\n",
    "\t\tself.ros_teleop.reset_msgs()\n"
   ]
  },
  {
   "cell_type": "markdown",
   "metadata": {},
   "source": [
    "# Step 3: wait for user input"
   ]
  },
  {
   "cell_type": "markdown",
   "metadata": {},
   "source": [
    "#### Jibo Commands sheet-cheat\n",
    "- Jibo say something: `teleop_connection.ros_teleop.send_tts_message(jibo_promts)`\n",
    "- Jibo Dance/Animiation/Emoji/Jiboji: `teleop_connection.ros_teleop.send_motion_message(path_to_file)` \n",
    "- Jibo Play Audio: `teleop_connection.ros_teleop.send_sound_message(path_to_audio_file)`\n",
    "- Jibo LED: `teleop_connection.ros_teleop.send_led_message(r,g,b)`\n",
    "- Jibo body move: `teleop_connection.ros_teleop.send_lookat_message(x,y,z)`\n",
    "\n",
    "(see list of paths for Animation, Dances, Audio, Emoji, etc.: https://docs.google.com/spreadsheets/d/1FTqMNtcOdY3DiJ6tEYhlwc11WOpyp_jwcfV4FPdORok/edit#gid=1294449188 )\n",
    "\n",
    "\n",
    "Those commands are still broken -- Please try in Scratch:\n",
    "- Jibo listen/wait for user speech:`teleop_connection.ros_teleop.JiboListen()`\n"
   ]
  },
  {
   "cell_type": "code",
   "execution_count": null,
   "metadata": {},
   "outputs": [],
   "source": [
    "if __name__ == '__main__':\n",
    "\t# Loop forever and wait for Jibo listen signal to activate ASR, intent, response \n",
    "\tteleop_connection = jibo_teleop()\n",
    "\ttime.sleep(2)\n",
    "\n",
    "\twhile rclpy.ok(): \n",
    "\t\trclpy.spin_once(teleop_connection.ros_node)\n",
    "\t\tif hasattr(teleop_connection.ros_teleop, 'jibo_tts'):\n",
    "\t\t\tif teleop_connection.ros_teleop.jibo_tts:\n",
    "\t\t\t\tprint(\"jibo says: \" + teleop_connection.ros_teleop.jibo_tts)\n",
    "\n",
    "\t\t################## LOOP to keep asking Jibo to say stuff ##############################################\n",
    "\t\tjibo_promts = input(\"what do you want Jibo to say:\")\n",
    "\n",
    "\t\t# print(\"jibo says: \" + jibo_promts + \"\")\n",
    "\t\tif jibo_promts:\n",
    "\t\t\tteleop_connection.ros_teleop.send_tts_message(str(jibo_promts))\n",
    "\n",
    "\n",
    "\t\t# jibo_promts = 'Hi there, i am Jibo. Would you like to play with me?'\n",
    "\t\t# teleop_connection.ros_teleop.send_tts_message(str(jibo_promts))\n",
    "\t\t# time.sleep(2.0)\n",
    "\n",
    "\t\t# teleop_connection.ros_teleop.send_motion_message('Dances/Celebrate_01.keys')\n",
    "\t\t# time.sleep(2.0)\n",
    "\n",
    "\n",
    "\t\t# teleop_connection.ros_teleop.send_sound_message('excited1-jibo-old1.wav')\n",
    "\t\t# time.sleep(2.0)\n",
    "\n",
    "\t\t# # Change LED color RGB\n",
    "\t\t# teleop_connection.ros_teleop.send_led_message(0.7,0.0,0.0)\n",
    "\t\t# time.sleep(2)\n",
    "\t\t# teleop_connection.ros_teleop.send_led_message(0.0,0.0,0.0)\n",
    "\t\t\n",
    "\t\t# # Change Jibo body position X, Y, Z axis\n",
    "\t\t# teleop_connection.ros_teleop.send_lookat_message(0.9,0.0,0.0)\n",
    "\t\t# time.sleep(2)\n",
    "\t\t# teleop_connection.ros_teleop.send_lookat_message(0.0,0.9,0.0)\n",
    "\t\t# time.sleep(2)\n",
    "\t\t# teleop_connection.ros_teleop.send_lookat_message(0.0,0.0,0.9)\n",
    "\n",
    "\n",
    "\t\t# ############ BROKEN #################### \n",
    "\t\t# teleop_connection.ros_teleop.JiboListen()\n",
    "\n",
    "\t\t# if hasattr(teleop_connection.ros_teleop, 'asr_transcription'):\n",
    "\t\t# \tprint(teleop_connection.ros_teleop.asr_transcription)\n",
    "\t\t# \tif teleop_connection.ros_teleop.asr_transcription and teleop_connection.ros_teleop.asr_transcription != 'NOSPEECH':\n",
    "\t\t# \t\tjibo_promts = 'Did you say: '+ teleop_connection.ros_teleop.asr_transcription\n",
    "\t\t# \t\tteleop_connection.ros_teleop.send_tts_message(str(jibo_promts))\n",
    "\t\t# time.sleep(2.2)\n",
    "\t\t\n",
    "\t\tteleop_connection.ros_teleop.reset_asr_msgs()\n",
    "\t\tteleop_connection.ros_teleop.reset_msgs()\n",
    "\n",
    "\tteleop_connection.ros_teleop.destroy_node()\n",
    "\trclpy.shutdown()"
   ]
  }
 ],
 "metadata": {
  "kernelspec": {
   "display_name": "Python 3 (ipykernel)",
   "language": "python",
   "name": "python3"
  },
  "language_info": {
   "codemirror_mode": {
    "name": "ipython",
    "version": 3
   },
   "file_extension": ".py",
   "mimetype": "text/x-python",
   "name": "python",
   "nbconvert_exporter": "python",
   "pygments_lexer": "ipython3",
   "version": "3.10.12"
  },
  "vscode": {
   "interpreter": {
    "hash": "3ad933181bd8a04b432d3370b9dc3b0662ad032c4dfaa4e4f1596c548f763858"
   }
  }
 },
 "nbformat": 4,
 "nbformat_minor": 4
}
